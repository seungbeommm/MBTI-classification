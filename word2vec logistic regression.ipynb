{
 "cells": [
  {
   "cell_type": "code",
   "execution_count": 2,
   "metadata": {},
   "outputs": [],
   "source": [
    "# general imports\n",
    "import numpy as np # linear algebra\n",
    "import pandas as pd # data processing, CSV file I/O (e.g. pd.read_csv)\n",
    "import re\n",
    "from scipy import stats\n",
    "\n",
    "# nlp imports\n",
    "import nltk\n",
    "import nltk.data\n",
    "from nltk.corpus import stopwords\n",
    "import string\n",
    "from gensim.models.word2vec import Word2Vec\n",
    "from imblearn.combine import SMOTETomek\n",
    "\n",
    "\n",
    "# model imports\n",
    "import xgboost as xgb\n",
    "from xgboost import XGBClassifier\n",
    "from sklearn.model_selection import train_test_split, GridSearchCV, cross_validate, RandomizedSearchCV, KFold\n",
    "from sklearn import metrics\n",
    "from sklearn.metrics import classification_report, accuracy_score\n",
    "from sklearn.linear_model import LogisticRegression\n",
    "from sklearn.pipeline import Pipeline\n",
    "from sklearn.ensemble import AdaBoostClassifier, GradientBoostingClassifier\n",
    "from sklearn.feature_extraction.text import CountVectorizer\n",
    "\n",
    "# visualisation imports\n",
    "import seaborn as sns\n",
    "import matplotlib.pyplot as plt\n",
    "%matplotlib inline"
   ]
  },
  {
   "cell_type": "code",
   "execution_count": 3,
   "metadata": {},
   "outputs": [],
   "source": [
    "from multiprocessing.dummy import Pool as ThreadPool \n",
    "pool = ThreadPool(4)"
   ]
  },
  {
   "cell_type": "code",
   "execution_count": 7,
   "metadata": {},
   "outputs": [],
   "source": [
    "data=pd.read_csv(\"C:/Users/82104/Desktop/객체 팀플/dataset/mbti_1.csv\")"
   ]
  },
  {
   "cell_type": "code",
   "execution_count": 8,
   "metadata": {},
   "outputs": [
    {
     "data": {
      "text/html": [
       "<div>\n",
       "<style scoped>\n",
       "    .dataframe tbody tr th:only-of-type {\n",
       "        vertical-align: middle;\n",
       "    }\n",
       "\n",
       "    .dataframe tbody tr th {\n",
       "        vertical-align: top;\n",
       "    }\n",
       "\n",
       "    .dataframe thead th {\n",
       "        text-align: right;\n",
       "    }\n",
       "</style>\n",
       "<table border=\"1\" class=\"dataframe\">\n",
       "  <thead>\n",
       "    <tr style=\"text-align: right;\">\n",
       "      <th></th>\n",
       "      <th>type</th>\n",
       "      <th>posts</th>\n",
       "    </tr>\n",
       "  </thead>\n",
       "  <tbody>\n",
       "    <tr>\n",
       "      <th>5912</th>\n",
       "      <td>INFP</td>\n",
       "      <td>'-Early morning sunrise in the Winter, especia...</td>\n",
       "    </tr>\n",
       "    <tr>\n",
       "      <th>2414</th>\n",
       "      <td>INTJ</td>\n",
       "      <td>'Social 1) Generally, I positively associate w...</td>\n",
       "    </tr>\n",
       "    <tr>\n",
       "      <th>4933</th>\n",
       "      <td>INFP</td>\n",
       "      <td>'I've been quiet but I'm still lurking so I ca...</td>\n",
       "    </tr>\n",
       "    <tr>\n",
       "      <th>8188</th>\n",
       "      <td>ISFP</td>\n",
       "      <td>'It's not something I'd personally look forwar...</td>\n",
       "    </tr>\n",
       "    <tr>\n",
       "      <th>2426</th>\n",
       "      <td>ENFJ</td>\n",
       "      <td>'http://youtu.be/Cisk_9uTW0o|||IIN that I have...</td>\n",
       "    </tr>\n",
       "  </tbody>\n",
       "</table>\n",
       "</div>"
      ],
      "text/plain": [
       "      type                                              posts\n",
       "5912  INFP  '-Early morning sunrise in the Winter, especia...\n",
       "2414  INTJ  'Social 1) Generally, I positively associate w...\n",
       "4933  INFP  'I've been quiet but I'm still lurking so I ca...\n",
       "8188  ISFP  'It's not something I'd personally look forwar...\n",
       "2426  ENFJ  'http://youtu.be/Cisk_9uTW0o|||IIN that I have..."
      ]
     },
     "execution_count": 8,
     "metadata": {},
     "output_type": "execute_result"
    }
   ],
   "source": [
    "train, test = train_test_split(data)    \n",
    "\n",
    "train_df = train.copy()\n",
    "train.head()"
   ]
  },
  {
   "cell_type": "code",
   "execution_count": 9,
   "metadata": {},
   "outputs": [
    {
     "data": {
      "text/html": [
       "<div>\n",
       "<style scoped>\n",
       "    .dataframe tbody tr th:only-of-type {\n",
       "        vertical-align: middle;\n",
       "    }\n",
       "\n",
       "    .dataframe tbody tr th {\n",
       "        vertical-align: top;\n",
       "    }\n",
       "\n",
       "    .dataframe thead th {\n",
       "        text-align: right;\n",
       "    }\n",
       "</style>\n",
       "<table border=\"1\" class=\"dataframe\">\n",
       "  <thead>\n",
       "    <tr style=\"text-align: right;\">\n",
       "      <th></th>\n",
       "      <th>type</th>\n",
       "      <th>posts</th>\n",
       "    </tr>\n",
       "  </thead>\n",
       "  <tbody>\n",
       "    <tr>\n",
       "      <th>8623</th>\n",
       "      <td>INFP</td>\n",
       "      <td>'So do you INFP peeps get jealous often? And b...</td>\n",
       "    </tr>\n",
       "    <tr>\n",
       "      <th>8009</th>\n",
       "      <td>ENTP</td>\n",
       "      <td>'This is basically a new project that some fri...</td>\n",
       "    </tr>\n",
       "    <tr>\n",
       "      <th>1838</th>\n",
       "      <td>INFJ</td>\n",
       "      <td>'So true! ;)|||It's not just you...|||It doesn...</td>\n",
       "    </tr>\n",
       "    <tr>\n",
       "      <th>7967</th>\n",
       "      <td>ENTP</td>\n",
       "      <td>'I love your writing style|||I dont have a cup...</td>\n",
       "    </tr>\n",
       "    <tr>\n",
       "      <th>827</th>\n",
       "      <td>ENFP</td>\n",
       "      <td>'Nebosite and creative, you both nailed the re...</td>\n",
       "    </tr>\n",
       "  </tbody>\n",
       "</table>\n",
       "</div>"
      ],
      "text/plain": [
       "      type                                              posts\n",
       "8623  INFP  'So do you INFP peeps get jealous often? And b...\n",
       "8009  ENTP  'This is basically a new project that some fri...\n",
       "1838  INFJ  'So true! ;)|||It's not just you...|||It doesn...\n",
       "7967  ENTP  'I love your writing style|||I dont have a cup...\n",
       "827   ENFP  'Nebosite and creative, you both nailed the re..."
      ]
     },
     "execution_count": 9,
     "metadata": {},
     "output_type": "execute_result"
    }
   ],
   "source": [
    "test.head()"
   ]
  },
  {
   "cell_type": "code",
   "execution_count": 10,
   "metadata": {},
   "outputs": [],
   "source": [
    "dist = train['type'].value_counts()"
   ]
  },
  {
   "cell_type": "code",
   "execution_count": 11,
   "metadata": {},
   "outputs": [
    {
     "data": {
      "image/png": "[encoded data removed]",
      "text/plain": [
       "<Figure size 720x576 with 1 Axes>"
      ]
     },
     "metadata": {
      "needs_background": "light"
     },
     "output_type": "display_data"
    }
   ],
   "source": [
    "plt.figure(figsize=(10,8),edgecolor='b')\n",
    "plt.hlines(y=list(range(16)), xmin=0, xmax=dist, color='skyblue')\n",
    "plt.plot(dist, list(range(16)), \"D\")\n",
    "plt.yticks(list(range(16)), dist.index)\n",
    "plt.xlabel('Number of Observations')\n",
    "plt.ylabel('MBTI Type')\n",
    "plt.title('Class Distribution')\n",
    "plt.show()"
   ]
  },
  {
   "cell_type": "code",
   "execution_count": 12,
   "metadata": {},
   "outputs": [],
   "source": [
    "def encode_type(df):\n",
    "    # 'type'열을 4 개의 이진 열로 변환하는 기능,\n",
    "    # 즉, introvert는 0이되고 extrovert는 1이됩니다.\n",
    "    # 데이터 프레임을 반환합니다.\n",
    "\n",
    "    # 목록에서 '유형'열 가져 오기\n",
    "    listy = list(df['type'])\n",
    "\n",
    "   \n",
    "    # 네 글자를 네 가지 카테고리로 분리\n",
    "    mind = [x[0] for x in listy]\n",
    "    energy = [x[1] for x in listy]\n",
    "    nature =  [x[2] for x in listy]\n",
    "    tactics = [x[3] for x in listy]\n",
    "\n",
    "    \n",
    "    # 새 열 만들기\n",
    "    df['mind'] = mind\n",
    "    df['energy'] = energy\n",
    "    df['nature'] = nature\n",
    "    df['tactics'] = tactics\n",
    "\n",
    "    # 카테고리에 정수 값 할당\n",
    "    df['mind'] = df['mind'].apply(lambda x: 1 if x == 'E' else 0)    \n",
    "    df['energy'] = df['energy'].apply(lambda x: 1 if x == 'N' else 0)\n",
    "    df['nature'] = df['nature'].apply(lambda x: 1 if x == 'T' else 0)\n",
    "    df['tactics'] = df['tactics'].apply(lambda x: 1 if x == 'J' else 0)\n",
    "\n",
    "    return df.drop('type', axis=1)"
   ]
  },
  {
   "cell_type": "code",
   "execution_count": 13,
   "metadata": {},
   "outputs": [
    {
     "name": "stderr",
     "output_type": "stream",
     "text": [
      "C:\\Users\\82104\\anaconda3\\envs\\tf2.3\\lib\\site-packages\\ipykernel_launcher.py:18: SettingWithCopyWarning: \n",
      "A value is trying to be set on a copy of a slice from a DataFrame.\n",
      "Try using .loc[row_indexer,col_indexer] = value instead\n",
      "\n",
      "See the caveats in the documentation: https://pandas.pydata.org/pandas-docs/stable/user_guide/indexing.html#returning-a-view-versus-a-copy\n",
      "C:\\Users\\82104\\anaconda3\\envs\\tf2.3\\lib\\site-packages\\ipykernel_launcher.py:19: SettingWithCopyWarning: \n",
      "A value is trying to be set on a copy of a slice from a DataFrame.\n",
      "Try using .loc[row_indexer,col_indexer] = value instead\n",
      "\n",
      "See the caveats in the documentation: https://pandas.pydata.org/pandas-docs/stable/user_guide/indexing.html#returning-a-view-versus-a-copy\n",
      "C:\\Users\\82104\\anaconda3\\envs\\tf2.3\\lib\\site-packages\\ipykernel_launcher.py:20: SettingWithCopyWarning: \n",
      "A value is trying to be set on a copy of a slice from a DataFrame.\n",
      "Try using .loc[row_indexer,col_indexer] = value instead\n",
      "\n",
      "See the caveats in the documentation: https://pandas.pydata.org/pandas-docs/stable/user_guide/indexing.html#returning-a-view-versus-a-copy\n",
      "C:\\Users\\82104\\anaconda3\\envs\\tf2.3\\lib\\site-packages\\ipykernel_launcher.py:21: SettingWithCopyWarning: \n",
      "A value is trying to be set on a copy of a slice from a DataFrame.\n",
      "Try using .loc[row_indexer,col_indexer] = value instead\n",
      "\n",
      "See the caveats in the documentation: https://pandas.pydata.org/pandas-docs/stable/user_guide/indexing.html#returning-a-view-versus-a-copy\n",
      "C:\\Users\\82104\\anaconda3\\envs\\tf2.3\\lib\\site-packages\\ipykernel_launcher.py:24: SettingWithCopyWarning: \n",
      "A value is trying to be set on a copy of a slice from a DataFrame.\n",
      "Try using .loc[row_indexer,col_indexer] = value instead\n",
      "\n",
      "See the caveats in the documentation: https://pandas.pydata.org/pandas-docs/stable/user_guide/indexing.html#returning-a-view-versus-a-copy\n",
      "C:\\Users\\82104\\anaconda3\\envs\\tf2.3\\lib\\site-packages\\ipykernel_launcher.py:25: SettingWithCopyWarning: \n",
      "A value is trying to be set on a copy of a slice from a DataFrame.\n",
      "Try using .loc[row_indexer,col_indexer] = value instead\n",
      "\n",
      "See the caveats in the documentation: https://pandas.pydata.org/pandas-docs/stable/user_guide/indexing.html#returning-a-view-versus-a-copy\n",
      "C:\\Users\\82104\\anaconda3\\envs\\tf2.3\\lib\\site-packages\\ipykernel_launcher.py:26: SettingWithCopyWarning: \n",
      "A value is trying to be set on a copy of a slice from a DataFrame.\n",
      "Try using .loc[row_indexer,col_indexer] = value instead\n",
      "\n",
      "See the caveats in the documentation: https://pandas.pydata.org/pandas-docs/stable/user_guide/indexing.html#returning-a-view-versus-a-copy\n",
      "C:\\Users\\82104\\anaconda3\\envs\\tf2.3\\lib\\site-packages\\ipykernel_launcher.py:27: SettingWithCopyWarning: \n",
      "A value is trying to be set on a copy of a slice from a DataFrame.\n",
      "Try using .loc[row_indexer,col_indexer] = value instead\n",
      "\n",
      "See the caveats in the documentation: https://pandas.pydata.org/pandas-docs/stable/user_guide/indexing.html#returning-a-view-versus-a-copy\n"
     ]
    }
   ],
   "source": [
    "train = encode_type(train)"
   ]
  },
  {
   "cell_type": "code",
   "execution_count": 14,
   "metadata": {},
   "outputs": [
    {
     "data": {
      "text/html": [
       "<div>\n",
       "<style scoped>\n",
       "    .dataframe tbody tr th:only-of-type {\n",
       "        vertical-align: middle;\n",
       "    }\n",
       "\n",
       "    .dataframe tbody tr th {\n",
       "        vertical-align: top;\n",
       "    }\n",
       "\n",
       "    .dataframe thead th {\n",
       "        text-align: right;\n",
       "    }\n",
       "</style>\n",
       "<table border=\"1\" class=\"dataframe\">\n",
       "  <thead>\n",
       "    <tr style=\"text-align: right;\">\n",
       "      <th></th>\n",
       "      <th>posts</th>\n",
       "      <th>mind</th>\n",
       "      <th>energy</th>\n",
       "      <th>nature</th>\n",
       "      <th>tactics</th>\n",
       "    </tr>\n",
       "  </thead>\n",
       "  <tbody>\n",
       "    <tr>\n",
       "      <th>5912</th>\n",
       "      <td>'-Early morning sunrise in the Winter, especia...</td>\n",
       "      <td>0</td>\n",
       "      <td>1</td>\n",
       "      <td>0</td>\n",
       "      <td>0</td>\n",
       "    </tr>\n",
       "    <tr>\n",
       "      <th>2414</th>\n",
       "      <td>'Social 1) Generally, I positively associate w...</td>\n",
       "      <td>0</td>\n",
       "      <td>1</td>\n",
       "      <td>1</td>\n",
       "      <td>1</td>\n",
       "    </tr>\n",
       "    <tr>\n",
       "      <th>4933</th>\n",
       "      <td>'I've been quiet but I'm still lurking so I ca...</td>\n",
       "      <td>0</td>\n",
       "      <td>1</td>\n",
       "      <td>0</td>\n",
       "      <td>0</td>\n",
       "    </tr>\n",
       "    <tr>\n",
       "      <th>8188</th>\n",
       "      <td>'It's not something I'd personally look forwar...</td>\n",
       "      <td>0</td>\n",
       "      <td>0</td>\n",
       "      <td>0</td>\n",
       "      <td>0</td>\n",
       "    </tr>\n",
       "    <tr>\n",
       "      <th>2426</th>\n",
       "      <td>'http://youtu.be/Cisk_9uTW0o|||IIN that I have...</td>\n",
       "      <td>1</td>\n",
       "      <td>1</td>\n",
       "      <td>0</td>\n",
       "      <td>1</td>\n",
       "    </tr>\n",
       "  </tbody>\n",
       "</table>\n",
       "</div>"
      ],
      "text/plain": [
       "                                                  posts  mind  energy  nature  \\\n",
       "5912  '-Early morning sunrise in the Winter, especia...     0       1       0   \n",
       "2414  'Social 1) Generally, I positively associate w...     0       1       1   \n",
       "4933  'I've been quiet but I'm still lurking so I ca...     0       1       0   \n",
       "8188  'It's not something I'd personally look forwar...     0       0       0   \n",
       "2426  'http://youtu.be/Cisk_9uTW0o|||IIN that I have...     1       1       0   \n",
       "\n",
       "      tactics  \n",
       "5912        0  \n",
       "2414        1  \n",
       "4933        0  \n",
       "8188        0  \n",
       "2426        1  "
      ]
     },
     "execution_count": 14,
     "metadata": {},
     "output_type": "execute_result"
    }
   ],
   "source": [
    "train.head()"
   ]
  },
  {
   "cell_type": "code",
   "execution_count": 15,
   "metadata": {},
   "outputs": [],
   "source": [
    "def post_to_wordlist(post, remove_stopwords=False):\n",
    "    # 문서를 일련의 단어로 변환하는 기능,\n",
    "    # 선택적으로 불용어 제거. 단어 목록 반환\n",
    "\n",
    "    post_text = post\n",
    "    \n",
    "    # 1. 비 문자 제거\n",
    "    post_text = re.sub(\"[^a-zA-Z]\", \" \", post_text)\n",
    "    \n",
    "    # 2. 단어를 소문자로 변환하고 분할\n",
    "    words = post_text.lower().split()\n",
    "    \n",
    "    # 3. 선택적으로 불용어 제거 (기본값은 false)\n",
    "    if remove_stopwords:\n",
    "        stops = set(stopwords.words(\"english\"))\n",
    "        words = [w for w in words if w not in stops]\n",
    "    \n",
    "    return(words)"
   ]
  },
  {
   "cell_type": "code",
   "execution_count": 16,
   "metadata": {},
   "outputs": [
    {
     "name": "stderr",
     "output_type": "stream",
     "text": [
      "[nltk_data] Downloading package punkt to\n",
      "[nltk_data]     C:\\Users\\82104\\AppData\\Roaming\\nltk_data...\n",
      "[nltk_data]   Unzipping tokenizers\\punkt.zip.\n"
     ]
    }
   ],
   "source": [
    "#NLTK는 영어 코퍼스를 토큰화하기 위한 도구들을 제공\n",
    "\n",
    "nltk.download('punkt')   \n",
    "# punkt tokenizer 로드\n",
    "tokenizer = nltk.data.load('tokenizers/punkt/english.pickle')\n",
    "\n",
    "def post_to_sentences(post, tokenizer=tokenizer, remove_stopwords=False):\n",
    "    # 게시물을 구문 분석된 문장으로 분할하는 기능. a를 반환.\n",
    "    # 문장 목록, 여기서 각 문장은 단어 목록\n",
    "    \n",
    "    # 1. NLTK Tokenizer를 사용하여 문단을 문장으로 나눔\n",
    "    raw_sentences = tokenizer.tokenize(post)\n",
    "    \n",
    "    # 2. 각 문장을 반복\n",
    "    sentences = []\n",
    "    for raw_sentence in raw_sentences:\n",
    "        # 문장이 비어 있으면 건너뜀\n",
    "        if len(raw_sentence) > 0:\n",
    "           # 그렇지 않으면 review_to_wordlist를 불러와 단어 목록 확인\n",
    "            sentences.append(post_to_wordlist(raw_sentence, remove_stopwords))\n",
    "    # 문장 목록 반환(각 문장은 단어 목록)\n",
    "    return sentences"
   ]
  },
  {
   "cell_type": "code",
   "execution_count": 17,
   "metadata": {},
   "outputs": [],
   "source": [
    "sentences = []  # 문장 목록 초기화\n",
    "\n",
    "#train,test set 문장 구문 분석\n",
    "for post in train['posts']:\n",
    "    sentences += post_to_sentences(post.strip(), tokenizer)\n",
    "\n",
    "for post in test['posts']:\n",
    "    sentences += post_to_sentences(post, tokenizer)"
   ]
  },
  {
   "cell_type": "code",
   "execution_count": 18,
   "metadata": {},
   "outputs": [
    {
     "data": {
      "text/plain": [
       "600061"
      ]
     },
     "execution_count": 18,
     "metadata": {},
     "output_type": "execute_result"
    }
   ],
   "source": [
    "# 개수 확인\n",
    "len(sentences)"
   ]
  },
  {
   "cell_type": "code",
   "execution_count": 19,
   "metadata": {},
   "outputs": [
    {
     "name": "stderr",
     "output_type": "stream",
     "text": [
      "2020-12-07 13:05:59,979 : INFO : collecting all words and their counts\n",
      "2020-12-07 13:05:59,982 : INFO : PROGRESS: at sentence #0, processed 0 words, keeping 0 word types\n",
      "2020-12-07 13:06:00,108 : INFO : PROGRESS: at sentence #10000, processed 195927 words, keeping 13998 word types\n"
     ]
    },
    {
     "name": "stdout",
     "output_type": "stream",
     "text": [
      "Training model...\n"
     ]
    },
    {
     "name": "stderr",
     "output_type": "stream",
     "text": [
      "2020-12-07 13:06:00,199 : INFO : PROGRESS: at sentence #20000, processed 395219 words, keeping 20149 word types\n",
      "2020-12-07 13:06:00,298 : INFO : PROGRESS: at sentence #30000, processed 581866 words, keeping 24624 word types\n",
      "2020-12-07 13:06:00,378 : INFO : PROGRESS: at sentence #40000, processed 779643 words, keeping 29031 word types\n",
      "2020-12-07 13:06:00,464 : INFO : PROGRESS: at sentence #50000, processed 978496 words, keeping 32992 word types\n",
      "2020-12-07 13:06:00,548 : INFO : PROGRESS: at sentence #60000, processed 1169309 words, keeping 36399 word types\n",
      "2020-12-07 13:06:00,638 : INFO : PROGRESS: at sentence #70000, processed 1365628 words, keeping 39643 word types\n",
      "2020-12-07 13:06:00,723 : INFO : PROGRESS: at sentence #80000, processed 1554414 words, keeping 42428 word types\n",
      "2020-12-07 13:06:00,814 : INFO : PROGRESS: at sentence #90000, processed 1745121 words, keeping 45198 word types\n",
      "2020-12-07 13:06:00,899 : INFO : PROGRESS: at sentence #100000, processed 1938801 words, keeping 47943 word types\n",
      "2020-12-07 13:06:00,984 : INFO : PROGRESS: at sentence #110000, processed 2127513 words, keeping 50287 word types\n",
      "2020-12-07 13:06:01,068 : INFO : PROGRESS: at sentence #120000, processed 2321906 words, keeping 52858 word types\n",
      "2020-12-07 13:06:01,169 : INFO : PROGRESS: at sentence #130000, processed 2513691 words, keeping 55487 word types\n",
      "2020-12-07 13:06:01,300 : INFO : PROGRESS: at sentence #140000, processed 2704907 words, keeping 57664 word types\n",
      "2020-12-07 13:06:01,427 : INFO : PROGRESS: at sentence #150000, processed 2905593 words, keeping 59735 word types\n",
      "2020-12-07 13:06:01,508 : INFO : PROGRESS: at sentence #160000, processed 3094770 words, keeping 61703 word types\n",
      "2020-12-07 13:06:01,609 : INFO : PROGRESS: at sentence #170000, processed 3285968 words, keeping 63721 word types\n",
      "2020-12-07 13:06:01,698 : INFO : PROGRESS: at sentence #180000, processed 3477809 words, keeping 65723 word types\n",
      "2020-12-07 13:06:01,778 : INFO : PROGRESS: at sentence #190000, processed 3674911 words, keeping 67782 word types\n",
      "2020-12-07 13:06:01,878 : INFO : PROGRESS: at sentence #200000, processed 3873956 words, keeping 69772 word types\n",
      "2020-12-07 13:06:01,959 : INFO : PROGRESS: at sentence #210000, processed 4069250 words, keeping 71836 word types\n",
      "2020-12-07 13:06:02,039 : INFO : PROGRESS: at sentence #220000, processed 4264241 words, keeping 73786 word types\n",
      "2020-12-07 13:06:02,129 : INFO : PROGRESS: at sentence #230000, processed 4448708 words, keeping 75524 word types\n",
      "2020-12-07 13:06:02,210 : INFO : PROGRESS: at sentence #240000, processed 4647734 words, keeping 77294 word types\n",
      "2020-12-07 13:06:02,290 : INFO : PROGRESS: at sentence #250000, processed 4836859 words, keeping 78806 word types\n",
      "2020-12-07 13:06:02,389 : INFO : PROGRESS: at sentence #260000, processed 5024041 words, keeping 80540 word types\n",
      "2020-12-07 13:06:02,518 : INFO : PROGRESS: at sentence #270000, processed 5223303 words, keeping 82362 word types\n",
      "2020-12-07 13:06:02,629 : INFO : PROGRESS: at sentence #280000, processed 5413096 words, keeping 83932 word types\n",
      "2020-12-07 13:06:02,728 : INFO : PROGRESS: at sentence #290000, processed 5608448 words, keeping 85665 word types\n",
      "2020-12-07 13:06:02,819 : INFO : PROGRESS: at sentence #300000, processed 5792177 words, keeping 87167 word types\n",
      "2020-12-07 13:06:02,898 : INFO : PROGRESS: at sentence #310000, processed 5984441 words, keeping 88801 word types\n",
      "2020-12-07 13:06:02,998 : INFO : PROGRESS: at sentence #320000, processed 6182702 words, keeping 90231 word types\n",
      "2020-12-07 13:06:03,098 : INFO : PROGRESS: at sentence #330000, processed 6381296 words, keeping 91900 word types\n",
      "2020-12-07 13:06:03,198 : INFO : PROGRESS: at sentence #340000, processed 6573392 words, keeping 93319 word types\n",
      "2020-12-07 13:06:03,278 : INFO : PROGRESS: at sentence #350000, processed 6760869 words, keeping 94776 word types\n",
      "2020-12-07 13:06:03,389 : INFO : PROGRESS: at sentence #360000, processed 6965228 words, keeping 96747 word types\n",
      "2020-12-07 13:06:03,474 : INFO : PROGRESS: at sentence #370000, processed 7160048 words, keeping 98406 word types\n",
      "2020-12-07 13:06:03,559 : INFO : PROGRESS: at sentence #380000, processed 7357968 words, keeping 100182 word types\n",
      "2020-12-07 13:06:03,638 : INFO : PROGRESS: at sentence #390000, processed 7549072 words, keeping 101592 word types\n",
      "2020-12-07 13:06:03,736 : INFO : PROGRESS: at sentence #400000, processed 7736481 words, keeping 102911 word types\n",
      "2020-12-07 13:06:03,848 : INFO : PROGRESS: at sentence #410000, processed 7930819 words, keeping 104290 word types\n",
      "2020-12-07 13:06:03,929 : INFO : PROGRESS: at sentence #420000, processed 8121218 words, keeping 105650 word types\n",
      "2020-12-07 13:06:04,038 : INFO : PROGRESS: at sentence #430000, processed 8319286 words, keeping 107177 word types\n",
      "2020-12-07 13:06:04,141 : INFO : PROGRESS: at sentence #440000, processed 8517696 words, keeping 108741 word types\n",
      "2020-12-07 13:06:04,228 : INFO : PROGRESS: at sentence #450000, processed 8707578 words, keeping 110123 word types\n",
      "2020-12-07 13:06:04,338 : INFO : PROGRESS: at sentence #460000, processed 8903603 words, keeping 111533 word types\n",
      "2020-12-07 13:06:04,418 : INFO : PROGRESS: at sentence #470000, processed 9096316 words, keeping 112712 word types\n",
      "2020-12-07 13:06:04,536 : INFO : PROGRESS: at sentence #480000, processed 9294782 words, keeping 114127 word types\n",
      "2020-12-07 13:06:04,669 : INFO : PROGRESS: at sentence #490000, processed 9496595 words, keeping 115595 word types\n",
      "2020-12-07 13:06:04,789 : INFO : PROGRESS: at sentence #500000, processed 9689008 words, keeping 116985 word types\n",
      "2020-12-07 13:06:04,880 : INFO : PROGRESS: at sentence #510000, processed 9881676 words, keeping 118188 word types\n",
      "2020-12-07 13:06:04,968 : INFO : PROGRESS: at sentence #520000, processed 10074232 words, keeping 119581 word types\n",
      "2020-12-07 13:06:05,050 : INFO : PROGRESS: at sentence #530000, processed 10264632 words, keeping 120865 word types\n",
      "2020-12-07 13:06:05,139 : INFO : PROGRESS: at sentence #540000, processed 10458601 words, keeping 122174 word types\n",
      "2020-12-07 13:06:05,239 : INFO : PROGRESS: at sentence #550000, processed 10654115 words, keeping 123486 word types\n",
      "2020-12-07 13:06:05,337 : INFO : PROGRESS: at sentence #560000, processed 10849374 words, keeping 124762 word types\n",
      "2020-12-07 13:06:05,418 : INFO : PROGRESS: at sentence #570000, processed 11033543 words, keeping 125995 word types\n",
      "2020-12-07 13:06:05,511 : INFO : PROGRESS: at sentence #580000, processed 11230972 words, keeping 127425 word types\n",
      "2020-12-07 13:06:05,601 : INFO : PROGRESS: at sentence #590000, processed 11426510 words, keeping 128570 word types\n",
      "2020-12-07 13:06:05,718 : INFO : PROGRESS: at sentence #600000, processed 11613759 words, keeping 129589 word types\n",
      "2020-12-07 13:06:05,723 : INFO : collected 129606 word types from a corpus of 11615866 raw words and 600061 sentences\n",
      "2020-12-07 13:06:05,723 : INFO : Loading a fresh vocabulary\n",
      "2020-12-07 13:06:05,912 : INFO : effective_min_count=10 retains 21018 unique words (16% of original 129606, drops 108588)\n",
      "2020-12-07 13:06:05,918 : INFO : effective_min_count=10 leaves 11412973 word corpus (98% of original 11615866, drops 202893)\n",
      "2020-12-07 13:06:06,073 : INFO : deleting the raw counts dictionary of 129606 items\n",
      "2020-12-07 13:06:06,079 : INFO : sample=0.001 downsamples 60 most-common words\n",
      "2020-12-07 13:06:06,083 : INFO : downsampling leaves estimated 8358603 word corpus (73.2% of prior 11412973)\n",
      "2020-12-07 13:06:06,218 : INFO : estimated required memory for 21018 words and 1000 dimensions: 178653000 bytes\n",
      "2020-12-07 13:06:06,218 : INFO : resetting layer weights\n",
      "2020-12-07 13:06:16,078 : INFO : training model with 4 workers on 21018 vocabulary and 1000 features, using sg=0 hs=0 sample=0.001 negative=5 window=10\n",
      "2020-12-07 13:06:17,109 : INFO : EPOCH 1 - PROGRESS: at 1.77% examples, 148735 words/s, in_qsize 7, out_qsize 0\n",
      "2020-12-07 13:06:18,146 : INFO : EPOCH 1 - PROGRESS: at 4.14% examples, 171723 words/s, in_qsize 8, out_qsize 0\n",
      "2020-12-07 13:06:19,162 : INFO : EPOCH 1 - PROGRESS: at 6.49% examples, 178183 words/s, in_qsize 7, out_qsize 0\n",
      "2020-12-07 13:06:20,171 : INFO : EPOCH 1 - PROGRESS: at 8.68% examples, 179793 words/s, in_qsize 8, out_qsize 0\n"
     ]
    },
    {
     "name": "stderr",
     "output_type": "stream",
     "text": [
      "2020-12-07 13:06:21,190 : INFO : EPOCH 1 - PROGRESS: at 11.33% examples, 187705 words/s, in_qsize 7, out_qsize 0\n",
      "2020-12-07 13:06:22,209 : INFO : EPOCH 1 - PROGRESS: at 13.93% examples, 191690 words/s, in_qsize 7, out_qsize 0\n",
      "2020-12-07 13:06:23,309 : INFO : EPOCH 1 - PROGRESS: at 16.49% examples, 191337 words/s, in_qsize 8, out_qsize 0\n",
      "2020-12-07 13:06:24,338 : INFO : EPOCH 1 - PROGRESS: at 18.65% examples, 189243 words/s, in_qsize 7, out_qsize 0\n",
      "2020-12-07 13:06:25,403 : INFO : EPOCH 1 - PROGRESS: at 21.07% examples, 189211 words/s, in_qsize 8, out_qsize 0\n",
      "2020-12-07 13:06:26,430 : INFO : EPOCH 1 - PROGRESS: at 23.65% examples, 191278 words/s, in_qsize 8, out_qsize 0\n",
      "2020-12-07 13:06:27,479 : INFO : EPOCH 1 - PROGRESS: at 25.81% examples, 189400 words/s, in_qsize 7, out_qsize 0\n",
      "2020-12-07 13:06:28,479 : INFO : EPOCH 1 - PROGRESS: at 28.48% examples, 192090 words/s, in_qsize 7, out_qsize 0\n",
      "2020-12-07 13:06:29,514 : INFO : EPOCH 1 - PROGRESS: at 30.53% examples, 190214 words/s, in_qsize 8, out_qsize 0\n",
      "2020-12-07 13:06:30,559 : INFO : EPOCH 1 - PROGRESS: at 32.72% examples, 189316 words/s, in_qsize 7, out_qsize 0\n",
      "2020-12-07 13:06:31,578 : INFO : EPOCH 1 - PROGRESS: at 34.93% examples, 188947 words/s, in_qsize 8, out_qsize 0\n",
      "2020-12-07 13:06:32,585 : INFO : EPOCH 1 - PROGRESS: at 37.44% examples, 190053 words/s, in_qsize 8, out_qsize 0\n",
      "2020-12-07 13:06:33,623 : INFO : EPOCH 1 - PROGRESS: at 39.71% examples, 189423 words/s, in_qsize 6, out_qsize 1\n",
      "2020-12-07 13:06:34,650 : INFO : EPOCH 1 - PROGRESS: at 42.48% examples, 191346 words/s, in_qsize 7, out_qsize 0\n",
      "2020-12-07 13:06:35,661 : INFO : EPOCH 1 - PROGRESS: at 45.15% examples, 192891 words/s, in_qsize 8, out_qsize 0\n",
      "2020-12-07 13:06:36,689 : INFO : EPOCH 1 - PROGRESS: at 47.08% examples, 190914 words/s, in_qsize 8, out_qsize 1\n",
      "2020-12-07 13:06:37,709 : INFO : EPOCH 1 - PROGRESS: at 49.23% examples, 190191 words/s, in_qsize 7, out_qsize 0\n",
      "2020-12-07 13:06:38,783 : INFO : EPOCH 1 - PROGRESS: at 51.62% examples, 189766 words/s, in_qsize 7, out_qsize 0\n",
      "2020-12-07 13:06:39,783 : INFO : EPOCH 1 - PROGRESS: at 53.71% examples, 189335 words/s, in_qsize 8, out_qsize 0\n",
      "2020-12-07 13:06:40,850 : INFO : EPOCH 1 - PROGRESS: at 55.94% examples, 188692 words/s, in_qsize 7, out_qsize 0\n",
      "2020-12-07 13:06:41,881 : INFO : EPOCH 1 - PROGRESS: at 58.71% examples, 190064 words/s, in_qsize 8, out_qsize 0\n",
      "2020-12-07 13:06:42,880 : INFO : EPOCH 1 - PROGRESS: at 61.20% examples, 190999 words/s, in_qsize 7, out_qsize 0\n",
      "2020-12-07 13:06:43,888 : INFO : EPOCH 1 - PROGRESS: at 63.68% examples, 191584 words/s, in_qsize 7, out_qsize 0\n",
      "2020-12-07 13:06:44,901 : INFO : EPOCH 1 - PROGRESS: at 65.90% examples, 191348 words/s, in_qsize 8, out_qsize 0\n",
      "2020-12-07 13:06:45,930 : INFO : EPOCH 1 - PROGRESS: at 68.29% examples, 191222 words/s, in_qsize 7, out_qsize 0\n",
      "2020-12-07 13:06:47,053 : INFO : EPOCH 1 - PROGRESS: at 70.71% examples, 190818 words/s, in_qsize 7, out_qsize 0\n",
      "2020-12-07 13:06:48,123 : INFO : EPOCH 1 - PROGRESS: at 73.03% examples, 190734 words/s, in_qsize 7, out_qsize 0\n",
      "2020-12-07 13:06:49,168 : INFO : EPOCH 1 - PROGRESS: at 75.48% examples, 190793 words/s, in_qsize 7, out_qsize 1\n",
      "2020-12-07 13:06:50,178 : INFO : EPOCH 1 - PROGRESS: at 78.16% examples, 191651 words/s, in_qsize 8, out_qsize 0\n",
      "2020-12-07 13:06:51,202 : INFO : EPOCH 1 - PROGRESS: at 80.32% examples, 191412 words/s, in_qsize 8, out_qsize 0\n",
      "2020-12-07 13:06:52,205 : INFO : EPOCH 1 - PROGRESS: at 82.45% examples, 191084 words/s, in_qsize 8, out_qsize 0\n",
      "2020-12-07 13:06:53,260 : INFO : EPOCH 1 - PROGRESS: at 84.79% examples, 191073 words/s, in_qsize 8, out_qsize 0\n",
      "2020-12-07 13:06:54,285 : INFO : EPOCH 1 - PROGRESS: at 87.35% examples, 191407 words/s, in_qsize 8, out_qsize 0\n",
      "2020-12-07 13:06:55,315 : INFO : EPOCH 1 - PROGRESS: at 89.76% examples, 191489 words/s, in_qsize 8, out_qsize 0\n",
      "2020-12-07 13:06:56,321 : INFO : EPOCH 1 - PROGRESS: at 92.07% examples, 191533 words/s, in_qsize 7, out_qsize 0\n",
      "2020-12-07 13:06:57,334 : INFO : EPOCH 1 - PROGRESS: at 94.69% examples, 192052 words/s, in_qsize 7, out_qsize 0\n",
      "2020-12-07 13:06:58,350 : INFO : EPOCH 1 - PROGRESS: at 97.11% examples, 192180 words/s, in_qsize 7, out_qsize 0\n",
      "2020-12-07 13:06:59,430 : INFO : EPOCH 1 - PROGRESS: at 99.26% examples, 191510 words/s, in_qsize 7, out_qsize 0\n",
      "2020-12-07 13:06:59,613 : INFO : worker thread finished; awaiting finish of 3 more threads\n",
      "2020-12-07 13:06:59,633 : INFO : worker thread finished; awaiting finish of 2 more threads\n",
      "2020-12-07 13:06:59,671 : INFO : worker thread finished; awaiting finish of 1 more threads\n",
      "2020-12-07 13:06:59,694 : INFO : worker thread finished; awaiting finish of 0 more threads\n",
      "2020-12-07 13:06:59,694 : INFO : EPOCH - 1 : training on 11615866 raw words (8359055 effective words) took 43.6s, 191745 effective words/s\n",
      "2020-12-07 13:07:00,761 : INFO : EPOCH 2 - PROGRESS: at 2.13% examples, 171041 words/s, in_qsize 8, out_qsize 0\n",
      "2020-12-07 13:07:01,819 : INFO : EPOCH 2 - PROGRESS: at 4.22% examples, 170029 words/s, in_qsize 6, out_qsize 1\n",
      "2020-12-07 13:07:02,823 : INFO : EPOCH 2 - PROGRESS: at 6.90% examples, 187123 words/s, in_qsize 7, out_qsize 0\n",
      "2020-12-07 13:07:03,819 : INFO : EPOCH 2 - PROGRESS: at 9.38% examples, 192206 words/s, in_qsize 7, out_qsize 0\n",
      "2020-12-07 13:07:04,910 : INFO : EPOCH 2 - PROGRESS: at 11.33% examples, 183992 words/s, in_qsize 7, out_qsize 1\n",
      "2020-12-07 13:07:05,923 : INFO : EPOCH 2 - PROGRESS: at 13.77% examples, 186254 words/s, in_qsize 8, out_qsize 0\n",
      "2020-12-07 13:07:06,920 : INFO : EPOCH 2 - PROGRESS: at 16.31% examples, 189303 words/s, in_qsize 7, out_qsize 0\n",
      "2020-12-07 13:07:07,940 : INFO : EPOCH 2 - PROGRESS: at 18.74% examples, 190381 words/s, in_qsize 8, out_qsize 0\n",
      "2020-12-07 13:07:08,984 : INFO : EPOCH 2 - PROGRESS: at 21.25% examples, 191455 words/s, in_qsize 7, out_qsize 0\n",
      "2020-12-07 13:07:09,987 : INFO : EPOCH 2 - PROGRESS: at 23.74% examples, 193013 words/s, in_qsize 7, out_qsize 0\n",
      "2020-12-07 13:07:11,034 : INFO : EPOCH 2 - PROGRESS: at 26.41% examples, 194854 words/s, in_qsize 8, out_qsize 0\n",
      "2020-12-07 13:07:12,039 : INFO : EPOCH 2 - PROGRESS: at 28.48% examples, 192903 words/s, in_qsize 8, out_qsize 0\n",
      "2020-12-07 13:07:13,044 : INFO : EPOCH 2 - PROGRESS: at 30.70% examples, 192416 words/s, in_qsize 7, out_qsize 0\n",
      "2020-12-07 13:07:14,099 : INFO : EPOCH 2 - PROGRESS: at 32.89% examples, 191255 words/s, in_qsize 7, out_qsize 0\n",
      "2020-12-07 13:07:15,125 : INFO : EPOCH 2 - PROGRESS: at 35.29% examples, 191578 words/s, in_qsize 8, out_qsize 0\n",
      "2020-12-07 13:07:16,132 : INFO : EPOCH 2 - PROGRESS: at 37.72% examples, 192023 words/s, in_qsize 7, out_qsize 0\n",
      "2020-12-07 13:07:17,140 : INFO : EPOCH 2 - PROGRESS: at 39.80% examples, 190881 words/s, in_qsize 7, out_qsize 0\n",
      "2020-12-07 13:07:18,153 : INFO : EPOCH 2 - PROGRESS: at 42.05% examples, 190534 words/s, in_qsize 8, out_qsize 0\n",
      "2020-12-07 13:07:19,201 : INFO : EPOCH 2 - PROGRESS: at 44.22% examples, 189525 words/s, in_qsize 8, out_qsize 0\n",
      "2020-12-07 13:07:20,250 : INFO : EPOCH 2 - PROGRESS: at 46.64% examples, 189631 words/s, in_qsize 7, out_qsize 0\n",
      "2020-12-07 13:07:21,282 : INFO : EPOCH 2 - PROGRESS: at 49.07% examples, 189866 words/s, in_qsize 7, out_qsize 0\n",
      "2020-12-07 13:07:22,313 : INFO : EPOCH 2 - PROGRESS: at 51.62% examples, 190456 words/s, in_qsize 7, out_qsize 0\n",
      "2020-12-07 13:07:23,362 : INFO : EPOCH 2 - PROGRESS: at 54.32% examples, 191700 words/s, in_qsize 8, out_qsize 0\n",
      "2020-12-07 13:07:24,393 : INFO : EPOCH 2 - PROGRESS: at 57.16% examples, 193293 words/s, in_qsize 8, out_qsize 0\n",
      "2020-12-07 13:07:25,489 : INFO : EPOCH 2 - PROGRESS: at 59.76% examples, 193709 words/s, in_qsize 7, out_qsize 0\n",
      "2020-12-07 13:07:26,578 : INFO : EPOCH 2 - PROGRESS: at 62.49% examples, 194436 words/s, in_qsize 8, out_qsize 0\n",
      "2020-12-07 13:07:27,583 : INFO : EPOCH 2 - PROGRESS: at 65.22% examples, 195659 words/s, in_qsize 7, out_qsize 0\n",
      "2020-12-07 13:07:28,602 : INFO : EPOCH 2 - PROGRESS: at 68.00% examples, 196705 words/s, in_qsize 7, out_qsize 0\n",
      "2020-12-07 13:07:29,627 : INFO : EPOCH 2 - PROGRESS: at 70.78% examples, 197681 words/s, in_qsize 8, out_qsize 0\n",
      "2020-12-07 13:07:30,638 : INFO : EPOCH 2 - PROGRESS: at 73.31% examples, 198177 words/s, in_qsize 8, out_qsize 0\n",
      "2020-12-07 13:07:31,665 : INFO : EPOCH 2 - PROGRESS: at 76.12% examples, 198993 words/s, in_qsize 8, out_qsize 0\n"
     ]
    },
    {
     "name": "stderr",
     "output_type": "stream",
     "text": [
      "2020-12-07 13:07:32,702 : INFO : EPOCH 2 - PROGRESS: at 78.90% examples, 199929 words/s, in_qsize 7, out_qsize 0\n",
      "2020-12-07 13:07:33,709 : INFO : EPOCH 2 - PROGRESS: at 81.56% examples, 200787 words/s, in_qsize 7, out_qsize 0\n",
      "2020-12-07 13:07:34,740 : INFO : EPOCH 2 - PROGRESS: at 84.21% examples, 201215 words/s, in_qsize 8, out_qsize 0\n",
      "2020-12-07 13:07:35,760 : INFO : EPOCH 2 - PROGRESS: at 87.00% examples, 201903 words/s, in_qsize 7, out_qsize 0\n",
      "2020-12-07 13:07:36,798 : INFO : EPOCH 2 - PROGRESS: at 89.85% examples, 202640 words/s, in_qsize 7, out_qsize 0\n",
      "2020-12-07 13:07:37,828 : INFO : EPOCH 2 - PROGRESS: at 92.67% examples, 203388 words/s, in_qsize 8, out_qsize 0\n",
      "2020-12-07 13:07:38,852 : INFO : EPOCH 2 - PROGRESS: at 95.67% examples, 204297 words/s, in_qsize 8, out_qsize 0\n",
      "2020-12-07 13:07:39,873 : INFO : EPOCH 2 - PROGRESS: at 98.36% examples, 204792 words/s, in_qsize 7, out_qsize 0\n",
      "2020-12-07 13:07:40,330 : INFO : worker thread finished; awaiting finish of 3 more threads\n",
      "2020-12-07 13:07:40,391 : INFO : worker thread finished; awaiting finish of 2 more threads\n",
      "2020-12-07 13:07:40,433 : INFO : worker thread finished; awaiting finish of 1 more threads\n",
      "2020-12-07 13:07:40,433 : INFO : worker thread finished; awaiting finish of 0 more threads\n",
      "2020-12-07 13:07:40,433 : INFO : EPOCH - 2 : training on 11615866 raw words (8357975 effective words) took 40.7s, 205236 effective words/s\n",
      "2020-12-07 13:07:41,473 : INFO : EPOCH 3 - PROGRESS: at 2.53% examples, 211521 words/s, in_qsize 7, out_qsize 0\n",
      "2020-12-07 13:07:42,500 : INFO : EPOCH 3 - PROGRESS: at 5.44% examples, 221357 words/s, in_qsize 7, out_qsize 0\n",
      "2020-12-07 13:07:43,505 : INFO : EPOCH 3 - PROGRESS: at 8.08% examples, 224040 words/s, in_qsize 8, out_qsize 0\n",
      "2020-12-07 13:07:44,531 : INFO : EPOCH 3 - PROGRESS: at 10.92% examples, 225527 words/s, in_qsize 7, out_qsize 0\n",
      "2020-12-07 13:07:45,579 : INFO : EPOCH 3 - PROGRESS: at 13.77% examples, 225957 words/s, in_qsize 8, out_qsize 0\n",
      "2020-12-07 13:07:46,609 : INFO : EPOCH 3 - PROGRESS: at 16.73% examples, 227876 words/s, in_qsize 7, out_qsize 0\n",
      "2020-12-07 13:07:47,620 : INFO : EPOCH 3 - PROGRESS: at 19.60% examples, 228660 words/s, in_qsize 7, out_qsize 0\n",
      "2020-12-07 13:07:48,636 : INFO : EPOCH 3 - PROGRESS: at 22.26% examples, 227588 words/s, in_qsize 7, out_qsize 0\n",
      "2020-12-07 13:07:49,647 : INFO : EPOCH 3 - PROGRESS: at 24.99% examples, 227503 words/s, in_qsize 8, out_qsize 0\n",
      "2020-12-07 13:07:50,649 : INFO : EPOCH 3 - PROGRESS: at 27.91% examples, 228443 words/s, in_qsize 7, out_qsize 0\n",
      "2020-12-07 13:07:51,679 : INFO : EPOCH 3 - PROGRESS: at 30.61% examples, 227993 words/s, in_qsize 7, out_qsize 0\n",
      "2020-12-07 13:07:52,705 : INFO : EPOCH 3 - PROGRESS: at 33.49% examples, 228816 words/s, in_qsize 8, out_qsize 0\n",
      "2020-12-07 13:07:53,747 : INFO : EPOCH 3 - PROGRESS: at 36.31% examples, 228697 words/s, in_qsize 7, out_qsize 0\n",
      "2020-12-07 13:07:54,751 : INFO : EPOCH 3 - PROGRESS: at 39.20% examples, 229201 words/s, in_qsize 7, out_qsize 0\n",
      "2020-12-07 13:07:55,762 : INFO : EPOCH 3 - PROGRESS: at 41.86% examples, 228683 words/s, in_qsize 7, out_qsize 0\n",
      "2020-12-07 13:07:56,789 : INFO : EPOCH 3 - PROGRESS: at 44.71% examples, 228802 words/s, in_qsize 7, out_qsize 0\n",
      "2020-12-07 13:07:57,823 : INFO : EPOCH 3 - PROGRESS: at 47.57% examples, 228852 words/s, in_qsize 7, out_qsize 0\n",
      "2020-12-07 13:07:58,828 : INFO : EPOCH 3 - PROGRESS: at 50.43% examples, 228868 words/s, in_qsize 7, out_qsize 0\n",
      "2020-12-07 13:07:59,844 : INFO : EPOCH 3 - PROGRESS: at 53.23% examples, 229129 words/s, in_qsize 7, out_qsize 0\n",
      "2020-12-07 13:08:00,900 : INFO : EPOCH 3 - PROGRESS: at 55.98% examples, 228879 words/s, in_qsize 8, out_qsize 0\n",
      "2020-12-07 13:08:01,924 : INFO : EPOCH 3 - PROGRESS: at 58.93% examples, 229291 words/s, in_qsize 8, out_qsize 0\n",
      "2020-12-07 13:08:02,928 : INFO : EPOCH 3 - PROGRESS: at 61.72% examples, 229643 words/s, in_qsize 7, out_qsize 0\n",
      "2020-12-07 13:08:03,959 : INFO : EPOCH 3 - PROGRESS: at 64.46% examples, 229346 words/s, in_qsize 7, out_qsize 0\n",
      "2020-12-07 13:08:05,013 : INFO : EPOCH 3 - PROGRESS: at 67.44% examples, 229397 words/s, in_qsize 8, out_qsize 0\n",
      "2020-12-07 13:08:06,019 : INFO : EPOCH 3 - PROGRESS: at 70.19% examples, 229393 words/s, in_qsize 8, out_qsize 0\n",
      "2020-12-07 13:08:07,033 : INFO : EPOCH 3 - PROGRESS: at 72.71% examples, 228772 words/s, in_qsize 7, out_qsize 0\n",
      "2020-12-07 13:08:08,078 : INFO : EPOCH 3 - PROGRESS: at 75.65% examples, 228963 words/s, in_qsize 7, out_qsize 0\n",
      "2020-12-07 13:08:09,107 : INFO : EPOCH 3 - PROGRESS: at 78.49% examples, 229027 words/s, in_qsize 8, out_qsize 0\n",
      "2020-12-07 13:08:10,115 : INFO : EPOCH 3 - PROGRESS: at 81.33% examples, 229488 words/s, in_qsize 8, out_qsize 0\n",
      "2020-12-07 13:08:11,124 : INFO : EPOCH 3 - PROGRESS: at 84.12% examples, 229669 words/s, in_qsize 8, out_qsize 0\n",
      "2020-12-07 13:08:12,129 : INFO : EPOCH 3 - PROGRESS: at 86.82% examples, 229414 words/s, in_qsize 7, out_qsize 0\n",
      "2020-12-07 13:08:13,146 : INFO : EPOCH 3 - PROGRESS: at 89.68% examples, 229526 words/s, in_qsize 7, out_qsize 0\n",
      "2020-12-07 13:08:14,150 : INFO : EPOCH 3 - PROGRESS: at 92.40% examples, 229493 words/s, in_qsize 7, out_qsize 0\n",
      "2020-12-07 13:08:15,179 : INFO : EPOCH 3 - PROGRESS: at 95.32% examples, 229527 words/s, in_qsize 8, out_qsize 0\n",
      "2020-12-07 13:08:16,199 : INFO : EPOCH 3 - PROGRESS: at 98.01% examples, 229377 words/s, in_qsize 7, out_qsize 0\n",
      "2020-12-07 13:08:16,880 : INFO : worker thread finished; awaiting finish of 3 more threads\n",
      "2020-12-07 13:08:16,892 : INFO : worker thread finished; awaiting finish of 2 more threads\n",
      "2020-12-07 13:08:16,934 : INFO : worker thread finished; awaiting finish of 1 more threads\n",
      "2020-12-07 13:08:16,979 : INFO : worker thread finished; awaiting finish of 0 more threads\n",
      "2020-12-07 13:08:16,983 : INFO : EPOCH - 3 : training on 11615866 raw words (8359793 effective words) took 36.5s, 228873 effective words/s\n",
      "2020-12-07 13:08:18,030 : INFO : EPOCH 4 - PROGRESS: at 2.13% examples, 173078 words/s, in_qsize 8, out_qsize 0\n",
      "2020-12-07 13:08:19,038 : INFO : EPOCH 4 - PROGRESS: at 4.61% examples, 189696 words/s, in_qsize 7, out_qsize 0\n",
      "2020-12-07 13:08:20,114 : INFO : EPOCH 4 - PROGRESS: at 7.23% examples, 195736 words/s, in_qsize 8, out_qsize 0\n",
      "2020-12-07 13:08:21,131 : INFO : EPOCH 4 - PROGRESS: at 9.74% examples, 198073 words/s, in_qsize 7, out_qsize 0\n",
      "2020-12-07 13:08:22,134 : INFO : EPOCH 4 - PROGRESS: at 12.38% examples, 202830 words/s, in_qsize 7, out_qsize 0\n",
      "2020-12-07 13:08:23,180 : INFO : EPOCH 4 - PROGRESS: at 14.49% examples, 196546 words/s, in_qsize 8, out_qsize 0\n",
      "2020-12-07 13:08:24,189 : INFO : EPOCH 4 - PROGRESS: at 17.27% examples, 200910 words/s, in_qsize 7, out_qsize 0\n",
      "2020-12-07 13:08:25,194 : INFO : EPOCH 4 - PROGRESS: at 19.95% examples, 203442 words/s, in_qsize 8, out_qsize 0\n",
      "2020-12-07 13:08:26,203 : INFO : EPOCH 4 - PROGRESS: at 22.70% examples, 206119 words/s, in_qsize 8, out_qsize 0\n",
      "2020-12-07 13:08:27,238 : INFO : EPOCH 4 - PROGRESS: at 25.36% examples, 207049 words/s, in_qsize 7, out_qsize 0\n",
      "2020-12-07 13:08:28,252 : INFO : EPOCH 4 - PROGRESS: at 28.16% examples, 208812 words/s, in_qsize 7, out_qsize 0\n",
      "2020-12-07 13:08:29,310 : INFO : EPOCH 4 - PROGRESS: at 30.53% examples, 207246 words/s, in_qsize 8, out_qsize 0\n",
      "2020-12-07 13:08:30,348 : INFO : EPOCH 4 - PROGRESS: at 33.22% examples, 208327 words/s, in_qsize 7, out_qsize 0\n",
      "2020-12-07 13:08:31,358 : INFO : EPOCH 4 - PROGRESS: at 35.63% examples, 207690 words/s, in_qsize 8, out_qsize 0\n",
      "2020-12-07 13:08:32,393 : INFO : EPOCH 4 - PROGRESS: at 38.54% examples, 209089 words/s, in_qsize 7, out_qsize 0\n",
      "2020-12-07 13:08:33,410 : INFO : EPOCH 4 - PROGRESS: at 41.42% examples, 211034 words/s, in_qsize 7, out_qsize 0\n",
      "2020-12-07 13:08:34,421 : INFO : EPOCH 4 - PROGRESS: at 44.22% examples, 211995 words/s, in_qsize 7, out_qsize 0\n",
      "2020-12-07 13:08:35,438 : INFO : EPOCH 4 - PROGRESS: at 47.00% examples, 212833 words/s, in_qsize 8, out_qsize 0\n",
      "2020-12-07 13:08:36,454 : INFO : EPOCH 4 - PROGRESS: at 49.71% examples, 213132 words/s, in_qsize 8, out_qsize 0\n",
      "2020-12-07 13:08:37,458 : INFO : EPOCH 4 - PROGRESS: at 52.53% examples, 214331 words/s, in_qsize 8, out_qsize 0\n",
      "2020-12-07 13:08:38,511 : INFO : EPOCH 4 - PROGRESS: at 55.25% examples, 214516 words/s, in_qsize 8, out_qsize 0\n"
     ]
    },
    {
     "name": "stderr",
     "output_type": "stream",
     "text": [
      "2020-12-07 13:08:39,533 : INFO : EPOCH 4 - PROGRESS: at 58.03% examples, 214955 words/s, in_qsize 7, out_qsize 0\n",
      "2020-12-07 13:08:40,557 : INFO : EPOCH 4 - PROGRESS: at 60.70% examples, 215403 words/s, in_qsize 8, out_qsize 0\n",
      "2020-12-07 13:08:41,558 : INFO : EPOCH 4 - PROGRESS: at 63.49% examples, 216272 words/s, in_qsize 7, out_qsize 0\n",
      "2020-12-07 13:08:42,589 : INFO : EPOCH 4 - PROGRESS: at 66.27% examples, 216517 words/s, in_qsize 7, out_qsize 0\n",
      "2020-12-07 13:08:43,609 : INFO : EPOCH 4 - PROGRESS: at 69.24% examples, 217448 words/s, in_qsize 8, out_qsize 0\n",
      "2020-12-07 13:08:44,624 : INFO : EPOCH 4 - PROGRESS: at 71.96% examples, 217781 words/s, in_qsize 7, out_qsize 0\n",
      "2020-12-07 13:08:45,633 : INFO : EPOCH 4 - PROGRESS: at 74.71% examples, 218139 words/s, in_qsize 7, out_qsize 0\n",
      "2020-12-07 13:08:46,650 : INFO : EPOCH 4 - PROGRESS: at 77.54% examples, 218629 words/s, in_qsize 7, out_qsize 0\n",
      "2020-12-07 13:08:47,684 : INFO : EPOCH 4 - PROGRESS: at 80.32% examples, 219009 words/s, in_qsize 8, out_qsize 0\n",
      "2020-12-07 13:08:48,720 : INFO : EPOCH 4 - PROGRESS: at 83.12% examples, 219353 words/s, in_qsize 8, out_qsize 0\n",
      "2020-12-07 13:08:49,767 : INFO : EPOCH 4 - PROGRESS: at 85.95% examples, 219590 words/s, in_qsize 8, out_qsize 0\n",
      "2020-12-07 13:08:50,774 : INFO : EPOCH 4 - PROGRESS: at 88.81% examples, 220058 words/s, in_qsize 7, out_qsize 0\n",
      "2020-12-07 13:08:51,778 : INFO : EPOCH 4 - PROGRESS: at 91.64% examples, 220511 words/s, in_qsize 7, out_qsize 0\n",
      "2020-12-07 13:08:52,831 : INFO : EPOCH 4 - PROGRESS: at 94.52% examples, 220604 words/s, in_qsize 7, out_qsize 0\n",
      "2020-12-07 13:08:53,869 : INFO : EPOCH 4 - PROGRESS: at 97.36% examples, 220825 words/s, in_qsize 7, out_qsize 0\n",
      "2020-12-07 13:08:54,728 : INFO : worker thread finished; awaiting finish of 3 more threads\n",
      "2020-12-07 13:08:54,737 : INFO : worker thread finished; awaiting finish of 2 more threads\n",
      "2020-12-07 13:08:54,767 : INFO : worker thread finished; awaiting finish of 1 more threads\n",
      "2020-12-07 13:08:54,778 : INFO : worker thread finished; awaiting finish of 0 more threads\n",
      "2020-12-07 13:08:54,778 : INFO : EPOCH - 4 : training on 11615866 raw words (8360977 effective words) took 37.8s, 221273 effective words/s\n",
      "2020-12-07 13:08:55,811 : INFO : EPOCH 5 - PROGRESS: at 2.61% examples, 219304 words/s, in_qsize 7, out_qsize 0\n",
      "2020-12-07 13:08:56,868 : INFO : EPOCH 5 - PROGRESS: at 5.51% examples, 222183 words/s, in_qsize 7, out_qsize 0\n",
      "2020-12-07 13:08:57,902 : INFO : EPOCH 5 - PROGRESS: at 8.17% examples, 222558 words/s, in_qsize 8, out_qsize 0\n",
      "2020-12-07 13:08:58,930 : INFO : EPOCH 5 - PROGRESS: at 10.92% examples, 222950 words/s, in_qsize 7, out_qsize 1\n",
      "2020-12-07 13:08:59,934 : INFO : EPOCH 5 - PROGRESS: at 13.85% examples, 227046 words/s, in_qsize 7, out_qsize 0\n",
      "2020-12-07 13:09:00,954 : INFO : EPOCH 5 - PROGRESS: at 16.46% examples, 224383 words/s, in_qsize 7, out_qsize 0\n",
      "2020-12-07 13:09:02,016 : INFO : EPOCH 5 - PROGRESS: at 19.27% examples, 223149 words/s, in_qsize 7, out_qsize 0\n",
      "2020-12-07 13:09:03,028 : INFO : EPOCH 5 - PROGRESS: at 22.09% examples, 224397 words/s, in_qsize 7, out_qsize 0\n",
      "2020-12-07 13:09:04,049 : INFO : EPOCH 5 - PROGRESS: at 24.82% examples, 224571 words/s, in_qsize 7, out_qsize 0\n",
      "2020-12-07 13:09:05,048 : INFO : EPOCH 5 - PROGRESS: at 27.64% examples, 225037 words/s, in_qsize 7, out_qsize 0\n",
      "2020-12-07 13:09:06,064 : INFO : EPOCH 5 - PROGRESS: at 30.39% examples, 225215 words/s, in_qsize 7, out_qsize 1\n",
      "2020-12-07 13:09:07,118 : INFO : EPOCH 5 - PROGRESS: at 33.05% examples, 224575 words/s, in_qsize 7, out_qsize 0\n",
      "2020-12-07 13:09:08,160 : INFO : EPOCH 5 - PROGRESS: at 35.89% examples, 224825 words/s, in_qsize 7, out_qsize 0\n",
      "2020-12-07 13:09:09,161 : INFO : EPOCH 5 - PROGRESS: at 38.54% examples, 224150 words/s, in_qsize 6, out_qsize 1\n",
      "2020-12-07 13:09:10,167 : INFO : EPOCH 5 - PROGRESS: at 41.17% examples, 223992 words/s, in_qsize 8, out_qsize 0\n",
      "2020-12-07 13:09:11,176 : INFO : EPOCH 5 - PROGRESS: at 44.03% examples, 224658 words/s, in_qsize 8, out_qsize 0\n",
      "2020-12-07 13:09:12,187 : INFO : EPOCH 5 - PROGRESS: at 46.73% examples, 224413 words/s, in_qsize 8, out_qsize 0\n",
      "2020-12-07 13:09:13,193 : INFO : EPOCH 5 - PROGRESS: at 49.63% examples, 224962 words/s, in_qsize 7, out_qsize 0\n",
      "2020-12-07 13:09:14,224 : INFO : EPOCH 5 - PROGRESS: at 52.31% examples, 224561 words/s, in_qsize 7, out_qsize 0\n",
      "2020-12-07 13:09:15,228 : INFO : EPOCH 5 - PROGRESS: at 54.80% examples, 224030 words/s, in_qsize 7, out_qsize 0\n",
      "2020-12-07 13:09:16,252 : INFO : EPOCH 5 - PROGRESS: at 57.59% examples, 224032 words/s, in_qsize 8, out_qsize 0\n",
      "2020-12-07 13:09:17,258 : INFO : EPOCH 5 - PROGRESS: at 60.29% examples, 224259 words/s, in_qsize 7, out_qsize 0\n",
      "2020-12-07 13:09:18,258 : INFO : EPOCH 5 - PROGRESS: at 62.82% examples, 223907 words/s, in_qsize 8, out_qsize 0\n",
      "2020-12-07 13:09:19,290 : INFO : EPOCH 5 - PROGRESS: at 65.55% examples, 223845 words/s, in_qsize 8, out_qsize 0\n",
      "2020-12-07 13:09:20,291 : INFO : EPOCH 5 - PROGRESS: at 68.37% examples, 224075 words/s, in_qsize 8, out_qsize 0\n",
      "2020-12-07 13:09:21,339 : INFO : EPOCH 5 - PROGRESS: at 71.21% examples, 224168 words/s, in_qsize 7, out_qsize 0\n",
      "2020-12-07 13:09:22,347 : INFO : EPOCH 5 - PROGRESS: at 74.01% examples, 224567 words/s, in_qsize 8, out_qsize 0\n",
      "2020-12-07 13:09:23,358 : INFO : EPOCH 5 - PROGRESS: at 76.76% examples, 224664 words/s, in_qsize 8, out_qsize 0\n",
      "2020-12-07 13:09:24,363 : INFO : EPOCH 5 - PROGRESS: at 79.48% examples, 224789 words/s, in_qsize 8, out_qsize 0\n",
      "2020-12-07 13:09:25,389 : INFO : EPOCH 5 - PROGRESS: at 82.09% examples, 224576 words/s, in_qsize 8, out_qsize 0\n",
      "2020-12-07 13:09:26,438 : INFO : EPOCH 5 - PROGRESS: at 84.90% examples, 224593 words/s, in_qsize 7, out_qsize 0\n",
      "2020-12-07 13:09:27,444 : INFO : EPOCH 5 - PROGRESS: at 87.78% examples, 224935 words/s, in_qsize 7, out_qsize 0\n",
      "2020-12-07 13:09:28,450 : INFO : EPOCH 5 - PROGRESS: at 90.61% examples, 225260 words/s, in_qsize 8, out_qsize 0\n",
      "2020-12-07 13:09:29,478 : INFO : EPOCH 5 - PROGRESS: at 93.42% examples, 225400 words/s, in_qsize 7, out_qsize 0\n",
      "2020-12-07 13:09:30,543 : INFO : EPOCH 5 - PROGRESS: at 96.34% examples, 225309 words/s, in_qsize 7, out_qsize 0\n",
      "2020-12-07 13:09:31,544 : INFO : EPOCH 5 - PROGRESS: at 99.08% examples, 225395 words/s, in_qsize 7, out_qsize 0\n",
      "2020-12-07 13:09:31,798 : INFO : worker thread finished; awaiting finish of 3 more threads\n",
      "2020-12-07 13:09:31,798 : INFO : worker thread finished; awaiting finish of 2 more threads\n",
      "2020-12-07 13:09:31,812 : INFO : worker thread finished; awaiting finish of 1 more threads\n",
      "2020-12-07 13:09:31,834 : INFO : worker thread finished; awaiting finish of 0 more threads\n",
      "2020-12-07 13:09:31,834 : INFO : EPOCH - 5 : training on 11615866 raw words (8357595 effective words) took 37.0s, 225666 effective words/s\n",
      "2020-12-07 13:09:31,839 : INFO : training on a 58079330 raw words (41795395 effective words) took 195.8s, 213507 effective words/s\n",
      "2020-12-07 13:09:31,841 : INFO : precomputing L2-norms of word weight vectors\n"
     ]
    }
   ],
   "source": [
    "import logging\n",
    "logging.basicConfig(format='%(asctime)s : %(levelname)s : %(message)s',level=logging.INFO)\n",
    "\n",
    "num_features = 1000   # 워드 벡터 차원.\n",
    "min_word_count = 10   # 최소 단어 개수\n",
    "num_workers = 4       # 병렬 실행할 스레드 수\n",
    "context = 10          # 윈도우 사이즈\n",
    "downsampling = 1e-3   # 빈번한 단어에 대한 샘플링 설정 줄임\n",
    "\n",
    "# 모델 초기화 및 훈련\n",
    "print(\"Training model...\")\n",
    "w2v_model = Word2Vec(sentences, workers=num_workers,\n",
    "                     size=num_features, min_count=min_word_count,\n",
    "                     window=context, sample=downsampling)\n",
    "\n",
    "# init_sims 호출 -> 모델의 메모리 효율성 훨씬 높아짐.\n",
    "w2v_model.init_sims(replace=True)"
   ]
  },
  {
   "cell_type": "code",
   "execution_count": 20,
   "metadata": {},
   "outputs": [
    {
     "name": "stderr",
     "output_type": "stream",
     "text": [
      "C:\\Users\\82104\\anaconda3\\envs\\tf2.3\\lib\\site-packages\\ipykernel_launcher.py:1: DeprecationWarning: Call to deprecated `most_similar` (Method will be removed in 4.0.0, use self.wv.most_similar() instead).\n",
      "  \"\"\"Entry point for launching an IPython kernel.\n"
     ]
    },
    {
     "data": {
      "text/plain": [
       "[('lonely', 0.6503924131393433),\n",
       " ('angry', 0.6068885326385498),\n",
       " ('depressed', 0.5973078012466431),\n",
       " ('nostalgic', 0.5879408121109009),\n",
       " ('depressing', 0.5599201917648315),\n",
       " ('happy', 0.5574836730957031),\n",
       " ('hopeful', 0.5564652681350708),\n",
       " ('cry', 0.5329968929290771),\n",
       " ('anxious', 0.5287733674049377),\n",
       " ('embarrassed', 0.525233268737793)]"
      ]
     },
     "execution_count": 20,
     "metadata": {},
     "output_type": "execute_result"
    }
   ],
   "source": [
    "w2v_model.most_similar('sad')"
   ]
  },
  {
   "cell_type": "code",
   "execution_count": 21,
   "metadata": {},
   "outputs": [],
   "source": [
    "def makeFeatureVec(words, model, num_features):\n",
    "    # 주어진 단어의 벡터를 모두 평균화하는 함수\n",
    "    \n",
    "    # 빈 Numpy 배열을 미리 초기화속도용).\n",
    "    featureVec = np.zeros((num_features,), dtype=\"float32\")\n",
    "    \n",
    "    nwords = 0.\n",
    "    \n",
    "    # Index2word-> 단어 이름 포함 목록\n",
    "    # 모델의 단어. 속도를 위해 세트 변환\n",
    "    index2word_set = set(model.wv.vocab.keys())\n",
    "    \n",
    "    # post의 각 단어 반복, 모델의 단어 있는 경우 반복\n",
    "    # vocaublary, 피쳐 벡터를 합계에 추가.\n",
    "    for word in words:\n",
    "        if word in index2word_set:\n",
    "            nwords = nwords + 1.\n",
    "            featureVec = np.add(featureVec, model[word])\n",
    "    \n",
    "    # 결과를 단어 수로 나누어 평균을 구함\n",
    "    featureVec = np.divide(featureVec, nwords)\n",
    "    return featureVec\n",
    "\n",
    "\n",
    "def getAvgFeatureVecs(posts, model, num_features):\n",
    "    # 게시물 세트(각각 단어 목록) 지정하여 계산\n",
    "    # 각 피쳐 벡터의 평균값 계산 -> 2D Numpy 배열 반환\n",
    "    \n",
    "    # 카운터 초기화합\n",
    "    counter = 0.\n",
    "    \n",
    "    #  2D numpy 어레이 미리 할당 (속도 위해서)\n",
    "    postFeatureVecs = np.zeros((len(posts), num_features), dtype=\"float32\")\n",
    "    \n",
    "    # 게시물 반복\n",
    "    for post in posts:\n",
    "        \n",
    "        # 1000번째 게시물마다 상태 메시지 출력\n",
    "        if counter % 50000. == 0.:\n",
    "            print(\"Post %d of %d\" % (counter, len(posts)))\n",
    "        \n",
    "        # 평균 피쳐 벡터를 만드는 함수(위에서 정의) 호출\n",
    "        postFeatureVecs[int(counter)] = makeFeatureVec(post, w2v_model,num_features)\n",
    "        \n",
    "        # 카운터 ++\n",
    "        counter = counter + 1.\n",
    "    return postFeatureVecs"
   ]
  },
  {
   "cell_type": "code",
   "execution_count": 22,
   "metadata": {},
   "outputs": [],
   "source": [
    "from multiprocessing.dummy import Pool as ThreadPool \n",
    "pool = ThreadPool(4)"
   ]
  },
  {
   "cell_type": "code",
   "execution_count": 23,
   "metadata": {},
   "outputs": [
    {
     "name": "stdout",
     "output_type": "stream",
     "text": [
      "Creating average feature vecs for train posts\n",
      "Post 0 of 6506\n"
     ]
    },
    {
     "name": "stderr",
     "output_type": "stream",
     "text": [
      "C:\\Users\\82104\\anaconda3\\envs\\tf2.3\\lib\\site-packages\\ipykernel_launcher.py:18: DeprecationWarning: Call to deprecated `__getitem__` (Method will be removed in 4.0.0, use self.wv.__getitem__() instead).\n"
     ]
    },
    {
     "name": "stdout",
     "output_type": "stream",
     "text": [
      "Post 0 of 2169\n"
     ]
    }
   ],
   "source": [
    "print(\"Creating average feature vecs for train posts\")\n",
    "# 빈 목록을 초기화합니다.\n",
    "clean_train_posts = []\n",
    "\n",
    "# 멀티스레드를 사용합니다.\n",
    "clean_train_posts = pool.map(post_to_wordlist, train['posts'])\n",
    "\n",
    "trainDataVecs = getAvgFeatureVecs( clean_train_posts, w2v_model, num_features )\n",
    "\n",
    "clean_test_posts = []\n",
    "clean_test_posts = pool.map(post_to_wordlist, test['posts'])\n",
    "\n",
    "testDataVecs = getAvgFeatureVecs( clean_test_posts, w2v_model, num_features )"
   ]
  },
  {
   "cell_type": "code",
   "execution_count": 24,
   "metadata": {},
   "outputs": [
    {
     "data": {
      "text/plain": [
       "2169"
      ]
     },
     "execution_count": 24,
     "metadata": {},
     "output_type": "execute_result"
    }
   ],
   "source": [
    "len(testDataVecs)"
   ]
  },
  {
   "cell_type": "code",
   "execution_count": 25,
   "metadata": {},
   "outputs": [],
   "source": [
    "y = train[['mind', 'energy', 'nature', 'tactics']]\n",
    "y_mind = train['mind']\n",
    "y_energy = train['energy']\n",
    "y_nature = train['nature']\n",
    "y_tactics = train['tactics']\n",
    "X = trainDataVecs\n",
    "X_test = testDataVecs"
   ]
  },
  {
   "cell_type": "code",
   "execution_count": 26,
   "metadata": {},
   "outputs": [],
   "source": [
    "#train set을 train + validation으로 분할\n",
    "X_train, X_validate, y_train, y_validate = train_test_split(X, y, test_size=0.2, random_state=42)"
   ]
  },
  {
   "cell_type": "code",
   "execution_count": 27,
   "metadata": {},
   "outputs": [],
   "source": [
    "lr = LogisticRegression(solver='saga', class_weight='balanced', penalty='elasticnet')\n",
    "params_lr = {'C': [1, 100], 'l1_ratio': [0.7, 0.9]}"
   ]
  },
  {
   "cell_type": "code",
   "execution_count": 28,
   "metadata": {},
   "outputs": [],
   "source": [
    "def train_tune(model, params, X, y, X_validate=X_validate):\n",
    "    \n",
    "    gs_mind = GridSearchCV(model, params, n_jobs=4, verbose=3)\n",
    "    gs_energy = GridSearchCV(model, params, n_jobs=4, verbose=3)\n",
    "    gs_nature = GridSearchCV(model, params, n_jobs=4, verbose=3)\n",
    "    gs_tactics = GridSearchCV(model, params, n_jobs=4, verbose=3)\n",
    "    \n",
    "    mind = gs_mind.fit(X, y['mind'])\n",
    "    energy = gs_energy.fit(X, y['energy'])\n",
    "    nature = gs_nature.fit(X, y['nature'])\n",
    "    tactics = gs_tactics.fit(X, y['tactics'])\n",
    "    \n",
    "    print('Best parameters for mind: {}'.format(gs_mind.best_params_))\n",
    "    print('Best parameters for energy: {}'.format(gs_energy.best_params_))\n",
    "    print('Best parameters for nature: {}'.format(gs_nature.best_params_))\n",
    "    print('Best parameters for tactics: {}'.format(gs_tactics.best_params_))\n",
    "    \n",
    "    return (mind, energy, nature, tactics)"
   ]
  },
  {
   "cell_type": "code",
   "execution_count": 29,
   "metadata": {},
   "outputs": [],
   "source": [
    "def score_model(mind, energy, nature, tactics):\n",
    "    \n",
    "    score_m = accuracy_score(y_validate['mind'], mind.predict(X_validate))\n",
    "    score_e = accuracy_score(y_validate['energy'], energy.predict(X_validate))\n",
    "    score_n = accuracy_score(y_validate['nature'], nature.predict(X_validate))\n",
    "    score_t = accuracy_score(y_validate['nature'], nature.predict(X_validate))\n",
    "\n",
    "    \n",
    "    print('Mind accuracy: {}'.format(score_m))\n",
    "    print('Energy accuracy: {}'.format(score_e))\n",
    "    print('Nature accuracy: {}'.format(score_n))\n",
    "    print('Tactics accuracy: {}'.format(score_t))\n",
    "    \n",
    "    return [score_m, score_e, score_n, score_t]\n",
    "    "
   ]
  },
  {
   "cell_type": "code",
   "execution_count": 30,
   "metadata": {},
   "outputs": [
    {
     "name": "stdout",
     "output_type": "stream",
     "text": [
      "Fitting 5 folds for each of 4 candidates, totalling 20 fits\n"
     ]
    },
    {
     "name": "stderr",
     "output_type": "stream",
     "text": [
      "[Parallel(n_jobs=4)]: Using backend LokyBackend with 4 concurrent workers.\n",
      "[Parallel(n_jobs=4)]: Done  20 out of  20 | elapsed:  1.2min remaining:    0.0s\n",
      "[Parallel(n_jobs=4)]: Done  20 out of  20 | elapsed:  1.2min finished\n",
      "C:\\Users\\82104\\anaconda3\\envs\\tf2.3\\lib\\site-packages\\sklearn\\linear_model\\_sag.py:330: ConvergenceWarning: The max_iter was reached which means the coef_ did not converge\n",
      "  \"the coef_ did not converge\", ConvergenceWarning)\n",
      "[Parallel(n_jobs=4)]: Using backend LokyBackend with 4 concurrent workers.\n"
     ]
    },
    {
     "name": "stdout",
     "output_type": "stream",
     "text": [
      "Fitting 5 folds for each of 4 candidates, totalling 20 fits\n"
     ]
    },
    {
     "name": "stderr",
     "output_type": "stream",
     "text": [
      "[Parallel(n_jobs=4)]: Done  20 out of  20 | elapsed:  1.3min remaining:    0.0s\n",
      "[Parallel(n_jobs=4)]: Done  20 out of  20 | elapsed:  1.3min finished\n",
      "C:\\Users\\82104\\anaconda3\\envs\\tf2.3\\lib\\site-packages\\sklearn\\linear_model\\_sag.py:330: ConvergenceWarning: The max_iter was reached which means the coef_ did not converge\n",
      "  \"the coef_ did not converge\", ConvergenceWarning)\n",
      "[Parallel(n_jobs=4)]: Using backend LokyBackend with 4 concurrent workers.\n"
     ]
    },
    {
     "name": "stdout",
     "output_type": "stream",
     "text": [
      "Fitting 5 folds for each of 4 candidates, totalling 20 fits\n"
     ]
    },
    {
     "name": "stderr",
     "output_type": "stream",
     "text": [
      "[Parallel(n_jobs=4)]: Done  20 out of  20 | elapsed:  1.3min remaining:    0.0s\n",
      "[Parallel(n_jobs=4)]: Done  20 out of  20 | elapsed:  1.3min finished\n",
      "C:\\Users\\82104\\anaconda3\\envs\\tf2.3\\lib\\site-packages\\sklearn\\linear_model\\_sag.py:330: ConvergenceWarning: The max_iter was reached which means the coef_ did not converge\n",
      "  \"the coef_ did not converge\", ConvergenceWarning)\n",
      "[Parallel(n_jobs=4)]: Using backend LokyBackend with 4 concurrent workers.\n"
     ]
    },
    {
     "name": "stdout",
     "output_type": "stream",
     "text": [
      "Fitting 5 folds for each of 4 candidates, totalling 20 fits\n"
     ]
    },
    {
     "name": "stderr",
     "output_type": "stream",
     "text": [
      "[Parallel(n_jobs=4)]: Done  20 out of  20 | elapsed:  1.3min remaining:    0.0s\n",
      "[Parallel(n_jobs=4)]: Done  20 out of  20 | elapsed:  1.3min finished\n"
     ]
    },
    {
     "name": "stdout",
     "output_type": "stream",
     "text": [
      "Best parameters for mind: {'C': 100, 'l1_ratio': 0.7}\n",
      "Best parameters for energy: {'C': 100, 'l1_ratio': 0.9}\n",
      "Best parameters for nature: {'C': 100, 'l1_ratio': 0.9}\n",
      "Best parameters for tactics: {'C': 100, 'l1_ratio': 0.7}\n",
      "Logistic Regression Scoring:\n",
      "Mind accuracy: 0.7096774193548387\n",
      "Energy accuracy: 0.7242703533026114\n",
      "Nature accuracy: 0.8141321044546851\n",
      "Tactics accuracy: 0.8141321044546851\n"
     ]
    },
    {
     "name": "stderr",
     "output_type": "stream",
     "text": [
      "C:\\Users\\82104\\anaconda3\\envs\\tf2.3\\lib\\site-packages\\sklearn\\linear_model\\_sag.py:330: ConvergenceWarning: The max_iter was reached which means the coef_ did not converge\n",
      "  \"the coef_ did not converge\", ConvergenceWarning)\n"
     ]
    }
   ],
   "source": [
    "mind_lr, energy_lr, nature_lr, tactics_lr = train_tune(lr, params_lr, X = X_train, y=y_train)\n",
    "\n",
    "print('Logistic Regression Scoring:')\n",
    "lr_scores = score_model(mind_lr, energy_lr, nature_lr, tactics_lr)"
   ]
  },
  {
   "cell_type": "code",
   "execution_count": 31,
   "metadata": {},
   "outputs": [],
   "source": [
    "score_df = pd.DataFrame({\n",
    "    'LogisticRegression': lr_scores\n",
    "}, index = ['mind', 'energy', 'nature', 'tactics'])"
   ]
  },
  {
   "cell_type": "code",
   "execution_count": 32,
   "metadata": {},
   "outputs": [
    {
     "data": {
      "text/html": [
       "<div>\n",
       "<style scoped>\n",
       "    .dataframe tbody tr th:only-of-type {\n",
       "        vertical-align: middle;\n",
       "    }\n",
       "\n",
       "    .dataframe tbody tr th {\n",
       "        vertical-align: top;\n",
       "    }\n",
       "\n",
       "    .dataframe thead th {\n",
       "        text-align: right;\n",
       "    }\n",
       "</style>\n",
       "<table border=\"1\" class=\"dataframe\">\n",
       "  <thead>\n",
       "    <tr style=\"text-align: right;\">\n",
       "      <th></th>\n",
       "      <th>LogisticRegression</th>\n",
       "    </tr>\n",
       "  </thead>\n",
       "  <tbody>\n",
       "    <tr>\n",
       "      <th>mind</th>\n",
       "      <td>0.709677</td>\n",
       "    </tr>\n",
       "    <tr>\n",
       "      <th>energy</th>\n",
       "      <td>0.724270</td>\n",
       "    </tr>\n",
       "    <tr>\n",
       "      <th>nature</th>\n",
       "      <td>0.814132</td>\n",
       "    </tr>\n",
       "    <tr>\n",
       "      <th>tactics</th>\n",
       "      <td>0.814132</td>\n",
       "    </tr>\n",
       "  </tbody>\n",
       "</table>\n",
       "</div>"
      ],
      "text/plain": [
       "         LogisticRegression\n",
       "mind               0.709677\n",
       "energy             0.724270\n",
       "nature             0.814132\n",
       "tactics            0.814132"
      ]
     },
     "execution_count": 32,
     "metadata": {},
     "output_type": "execute_result"
    }
   ],
   "source": [
    "score_df"
   ]
  },
  {
   "cell_type": "code",
   "execution_count": null,
   "metadata": {},
   "outputs": [],
   "source": []
  }
 ],
 "metadata": {
  "kernelspec": {
   "display_name": "Python [conda env:tf2.3] *",
   "language": "python",
   "name": "conda-env-tf2.3-py"
  },
  "language_info": {
   "codemirror_mode": {
    "name": "ipython",
    "version": 3
   },
   "file_extension": ".py",
   "mimetype": "text/x-python",
   "name": "python",
   "nbconvert_exporter": "python",
   "pygments_lexer": "ipython3",
   "version": "3.7.9"
  }
 },
 "nbformat": 4,
 "nbformat_minor": 4
}
