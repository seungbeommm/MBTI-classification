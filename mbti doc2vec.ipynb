{
 "cells": [
  {
   "cell_type": "code",
   "execution_count": 1,
   "metadata": {},
   "outputs": [],
   "source": [
    "import pandas as pd\n",
    "import numpy as np\n",
    "import gensim\n",
    "import os\n",
    "import collections\n",
    "import smart_open\n",
    "import random"
   ]
  },
  {
   "cell_type": "code",
   "execution_count": 2,
   "metadata": {},
   "outputs": [],
   "source": [
    "def read_corpus(fname, tokens_only=False):\n",
    "    with smart_open.smart_open(fname, encoding=\"iso-8859-1\") as f:\n",
    "        for i, line in enumerate(f):\n",
    "            if tokens_only:\n",
    "                yield gensim.utils.simple_preprocess(line)\n",
    "            else:\n",
    "                # For training data, add tags\n",
    "                if i==0:\n",
    "                    pass\n",
    "                else:\n",
    "                    yield gensim.models.doc2vec.TaggedDocument(gensim.utils.simple_preprocess(line)[1:], \n",
    "                                                            gensim.utils.simple_preprocess(line)[0]) "
   ]
  },
  {
   "cell_type": "code",
   "execution_count": 6,
   "metadata": {},
   "outputs": [],
   "source": [
    "all_data = list(read_corpus(\"C:/Users/82104/Desktop/객체 팀플/dataset/mbti_1.csv\"))\n",
    "total_num_obs = len(all_data)"
   ]
  },
  {
   "cell_type": "code",
   "execution_count": 7,
   "metadata": {},
   "outputs": [],
   "source": [
    "from math import floor, ceil\n",
    "train_corpus = all_data[0:floor(3*total_num_obs/4)]\n",
    "test_corpus = all_data[floor(3*total_num_obs/4):]"
   ]
  },
  {
   "cell_type": "code",
   "execution_count": 9,
   "metadata": {},
   "outputs": [],
   "source": [
    "model = gensim.models.doc2vec.Doc2Vec(size=100, min_count=2, epochs=55)"
   ]
  },
  {
   "cell_type": "code",
   "execution_count": 10,
   "metadata": {},
   "outputs": [],
   "source": [
    "model.build_vocab(train_corpus)"
   ]
  },
  {
   "cell_type": "code",
   "execution_count": 12,
   "metadata": {},
   "outputs": [
    {
     "name": "stdout",
     "output_type": "stream",
     "text": [
      "Wall time: 8min 3s\n"
     ]
    }
   ],
   "source": [
    "%time model.train(train_corpus, total_examples=model.corpus_count, epochs=model.epochs)"
   ]
  },
  {
   "cell_type": "code",
   "execution_count": 13,
   "metadata": {},
   "outputs": [
    {
     "data": {
      "text/plain": [
       "array([-1.23292856e-01, -1.33478984e-01, -2.82753050e-01, -3.36730331e-01,\n",
       "       -3.03849041e-01,  3.03270549e-01,  2.20063701e-01, -7.24150166e-02,\n",
       "       -1.67995900e-01,  2.92025715e-01,  2.96790242e-01, -1.60492107e-01,\n",
       "        4.36984934e-02,  3.05536151e-01,  2.10708156e-01,  1.51197715e-02,\n",
       "        9.90348123e-03,  1.91438198e-01,  2.35202149e-01, -1.36056811e-01,\n",
       "        1.95286632e-01, -1.72273919e-01,  3.63269821e-02,  1.67890191e-02,\n",
       "        2.30257567e-02, -1.22770682e-01,  9.29395258e-02, -1.29292682e-01,\n",
       "        9.13629979e-02,  5.38202412e-02, -1.96423605e-01,  5.09742856e-01,\n",
       "        1.62476636e-02, -1.95929945e-01, -3.92628998e-01,  5.09191871e-01,\n",
       "        4.80559707e-01,  2.83546537e-01, -4.19738889e-01, -9.50777158e-02,\n",
       "        3.27560514e-01, -2.16804355e-01, -7.84175247e-02, -9.63010043e-02,\n",
       "       -2.66758859e-01, -2.77889073e-01, -3.91735822e-01, -1.85599282e-01,\n",
       "        4.70405109e-02,  2.15466484e-01,  1.54191211e-01, -1.60498515e-01,\n",
       "        1.29620120e-01, -2.52433747e-01,  1.97623879e-01,  2.43693992e-01,\n",
       "        1.51658431e-01, -8.95298421e-02,  8.08319822e-02, -3.74706000e-01,\n",
       "       -5.91264432e-03,  2.93704808e-01,  5.71751654e-01, -7.66237751e-02,\n",
       "       -2.28165612e-01,  1.68644145e-01,  2.80672073e-01,  2.04582706e-01,\n",
       "        2.72941530e-01,  1.72118589e-01, -3.44692613e-03, -1.37869239e-01,\n",
       "        1.56669512e-01, -4.51800339e-02, -1.42297775e-01,  1.14506006e-01,\n",
       "       -3.55679154e-01,  4.68799025e-01,  2.55331472e-02, -3.77310008e-01,\n",
       "        8.23441669e-02,  3.12105548e-02,  1.71702206e-01, -6.68605193e-02,\n",
       "       -3.26443851e-01,  2.68545032e-01, -2.44169678e-05, -1.18314534e-01,\n",
       "        1.78899199e-01, -1.61991373e-01,  9.96177271e-02, -3.68363559e-02,\n",
       "        2.61641666e-02,  1.69313505e-01, -2.00704541e-02,  2.10165590e-01,\n",
       "       -1.41792506e-01,  5.13009764e-02,  2.01145992e-01,  2.13594854e-01],\n",
       "      dtype=float32)"
      ]
     },
     "execution_count": 13,
     "metadata": {},
     "output_type": "execute_result"
    }
   ],
   "source": [
    "model.infer_vector(['I', 'feel', 'sad'])"
   ]
  },
  {
   "cell_type": "code",
   "execution_count": 14,
   "metadata": {},
   "outputs": [],
   "source": [
    "train_targets, train_regressors = zip(*[(doc.words, doc.tags[0]) for doc in train_corpus])\n",
    "test_targets, test_regressors = zip(*[(doc.words, doc.tags[0]) for doc in test_corpus])"
   ]
  },
  {
   "cell_type": "code",
   "execution_count": 15,
   "metadata": {},
   "outputs": [],
   "source": [
    "X = []\n",
    "for i in range(len(train_targets)):\n",
    "    X.append(model.infer_vector(train_targets[i]))\n",
    "train_x = np.asarray(X)"
   ]
  },
  {
   "cell_type": "code",
   "execution_count": 16,
   "metadata": {},
   "outputs": [
    {
     "data": {
      "text/plain": [
       "(6506, 100)"
      ]
     },
     "execution_count": 16,
     "metadata": {},
     "output_type": "execute_result"
    }
   ],
   "source": [
    "train_x.shape"
   ]
  },
  {
   "cell_type": "code",
   "execution_count": 17,
   "metadata": {},
   "outputs": [
    {
     "data": {
      "text/plain": [
       "0.7682139563479865"
      ]
     },
     "execution_count": 17,
     "metadata": {},
     "output_type": "execute_result"
    }
   ],
   "source": [
    "Y = np.asarray(train_regressors)\n",
    "from sklearn import preprocessing\n",
    "le = preprocessing.LabelEncoder()\n",
    "le.fit(Y)\n",
    "train_y = le.transform(Y)\n",
    "np.mean(train_y)"
   ]
  },
  {
   "cell_type": "code",
   "execution_count": 18,
   "metadata": {},
   "outputs": [
    {
     "name": "stdout",
     "output_type": "stream",
     "text": [
      "[['e' '1508']\n",
      " ['i' '4998']]\n"
     ]
    }
   ],
   "source": [
    "unique, counts = np.unique(Y, return_counts=True)\n",
    "\n",
    "print(np.asarray((unique, counts)).T)"
   ]
  },
  {
   "cell_type": "code",
   "execution_count": 19,
   "metadata": {},
   "outputs": [
    {
     "data": {
      "text/plain": [
       "LogisticRegression()"
      ]
     },
     "execution_count": 19,
     "metadata": {},
     "output_type": "execute_result"
    }
   ],
   "source": [
    "from sklearn import linear_model\n",
    "logreg = linear_model.LogisticRegression()\n",
    "logreg.fit(train_x, train_y)"
   ]
  },
  {
   "cell_type": "code",
   "execution_count": 20,
   "metadata": {},
   "outputs": [],
   "source": [
    "test_list = []\n",
    "for i in range(len(test_targets)):\n",
    "    test_list.append(model.infer_vector(test_targets[i]))\n",
    "test_x = np.asarray(test_list)"
   ]
  },
  {
   "cell_type": "code",
   "execution_count": 21,
   "metadata": {},
   "outputs": [],
   "source": [
    "test_Y = np.asarray(test_regressors)\n",
    "test_y = le.transform(test_Y)"
   ]
  },
  {
   "cell_type": "code",
   "execution_count": 22,
   "metadata": {},
   "outputs": [],
   "source": [
    "preds = logreg.predict(test_x)"
   ]
  },
  {
   "cell_type": "code",
   "execution_count": 23,
   "metadata": {},
   "outputs": [
    {
     "data": {
      "text/plain": [
       "0.7736284001844168"
      ]
     },
     "execution_count": 23,
     "metadata": {},
     "output_type": "execute_result"
    }
   ],
   "source": [
    "np.mean(test_y)"
   ]
  },
  {
   "cell_type": "code",
   "execution_count": 24,
   "metadata": {},
   "outputs": [
    {
     "data": {
      "text/plain": [
       "0.8206546795758414"
      ]
     },
     "execution_count": 24,
     "metadata": {},
     "output_type": "execute_result"
    }
   ],
   "source": [
    "sum(preds == test_y) / len(test_y)"
   ]
  },
  {
   "cell_type": "code",
   "execution_count": null,
   "metadata": {},
   "outputs": [],
   "source": []
  }
 ],
 "metadata": {
  "kernelspec": {
   "display_name": "Python [conda env:tf2.3] *",
   "language": "python",
   "name": "conda-env-tf2.3-py"
  },
  "language_info": {
   "codemirror_mode": {
    "name": "ipython",
    "version": 3
   },
   "file_extension": ".py",
   "mimetype": "text/x-python",
   "name": "python",
   "nbconvert_exporter": "python",
   "pygments_lexer": "ipython3",
   "version": "3.7.9"
  }
 },
 "nbformat": 4,
 "nbformat_minor": 4
}
